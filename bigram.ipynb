{
 "cells": [
  {
   "cell_type": "raw",
   "metadata": {},
   "source": [
    "bigram model is used (ie, given one we predict the other, hence \"bigram\")"
   ]
  },
  {
   "cell_type": "code",
   "execution_count": 1,
   "metadata": {},
   "outputs": [],
   "source": [
    "import torch\n",
    "import torch.nn as nn\n",
    "from torch.nn import functional as F"
   ]
  },
  {
   "cell_type": "code",
   "execution_count": 2,
   "metadata": {},
   "outputs": [
    {
     "name": "stdout",
     "output_type": "stream",
     "text": [
      "cuda\n"
     ]
    }
   ],
   "source": [
    "device = 'cuda' if torch.cuda.is_available() else cpu\n",
    "print(device)\n",
    "block_size = 8\n",
    "batch_size = 4\n",
    "max_iter = 1000\n",
    "learning_rate = 3e-4\n",
    "eval_iters = 250\n",
    "dropout = 0.2  #avoids overfitting by removing certain number of neurons"
   ]
  },
  {
   "cell_type": "code",
   "execution_count": 3,
   "metadata": {},
   "outputs": [
    {
     "name": "stdout",
     "output_type": "stream",
     "text": [
      "['\\n', ' ', '!', '\"', '&', \"'\", '(', ')', '*', ',', '-', '.', '0', '1', '2', '3', '4', '5', '6', '7', '8', '9', ':', ';', '?', 'A', 'B', 'C', 'D', 'E', 'F', 'G', 'H', 'I', 'J', 'K', 'L', 'M', 'N', 'O', 'P', 'Q', 'R', 'S', 'T', 'U', 'V', 'W', 'X', 'Y', 'Z', '[', ']', '_', 'a', 'b', 'c', 'd', 'e', 'f', 'g', 'h', 'i', 'j', 'k', 'l', 'm', 'n', 'o', 'p', 'q', 'r', 's', 't', 'u', 'v', 'w', 'x', 'y', 'z']\n"
     ]
    }
   ],
   "source": [
    "with open('wizard_of_oz.txt', 'r', encoding='utf-8')as f:\n",
    "    text = f.read()\n",
    "chars = sorted(set(text))\n",
    "print(chars)\n",
    "vocab_size = len(chars)"
   ]
  },
  {
   "cell_type": "code",
   "execution_count": 4,
   "metadata": {},
   "outputs": [
    {
     "name": "stdout",
     "output_type": "stream",
     "text": [
      "[61, 58, 65, 65, 68]\n",
      "tensor([ 1,  1, 28, 39, 42, 39, 44, 32, 49,  1, 25, 38, 28,  1, 44, 32, 29,  1,\n",
      "        47, 33, 50, 25, 42, 28,  1, 33, 38,  1, 39, 50,  0,  0,  1,  1, 26, 49,\n",
      "         0,  0,  1,  1, 36, 11,  1, 30, 42, 25, 38, 35,  1, 26, 25, 45, 37,  0,\n",
      "         0,  1,  1, 25, 45, 44, 32, 39, 42,  1, 39, 30,  1, 44, 32, 29,  1, 47,\n",
      "        33, 50, 25, 42, 28,  1, 39, 30,  1, 39, 50,  9,  1, 44, 32, 29,  1, 36,\n",
      "        25, 38, 28,  1, 39, 30,  1, 39, 50,  9])\n"
     ]
    }
   ],
   "source": [
    "string_to_int = { ch:i for i, ch in enumerate(chars) }\n",
    "int_to_string = { i:ch for i, ch in enumerate(chars) }\n",
    "encode = lambda s: [string_to_int[c] for c in s]\n",
    "decode = lambda l: ''.join([int_to_string[i] for i in l])\n",
    "\n",
    "encoded_hello = encode('hello')  \n",
    "print(encoded_hello)\n",
    "\n",
    "data = torch.tensor(encode(text), dtype=torch.long)\n",
    "print(data[:100])"
   ]
  },
  {
   "cell_type": "code",
   "execution_count": 5,
   "metadata": {},
   "outputs": [
    {
     "name": "stdout",
     "output_type": "stream",
     "text": [
      "hello\n"
     ]
    }
   ],
   "source": [
    "print(decode(encoded_hello))"
   ]
  },
  {
   "cell_type": "code",
   "execution_count": 6,
   "metadata": {},
   "outputs": [
    {
     "name": "stdout",
     "output_type": "stream",
     "text": [
      "inputs:\n",
      "torch.Size([4, 8])\n",
      "tensor([[69, 62, 60, 65, 58, 73,  9,  1],\n",
      "        [57,  1, 54, 73,  1, 73, 61, 58],\n",
      "        [ 1, 62, 73, 23,  1, 59, 68, 71],\n",
      "        [ 9,  3,  1, 72, 54, 62, 57,  1]], device='cuda:0')\n",
      "targets:\n",
      "tensor([[62, 60, 65, 58, 73,  9,  1,  3],\n",
      "        [ 1, 54, 73,  1, 73, 61, 58,  1],\n",
      "        [62, 73, 23,  1, 59, 68, 71,  1],\n",
      "        [ 3,  1, 72, 54, 62, 57,  1, 73]], device='cuda:0')\n"
     ]
    }
   ],
   "source": [
    "n = int(0.8*len(data))\n",
    "train_data = data[:n]\n",
    "val_data = data[n:]\n",
    "\n",
    "def get_batch(split):\n",
    "    data = train_data if split == 'train' else val_data\n",
    "    ix = torch.randint(len(data) - block_size,(batch_size,) )\n",
    "    # print(ix)\n",
    "    x = torch.stack([data[i:i+block_size] for i in ix])\n",
    "    y = torch.stack([data[i+1:i+block_size+1] for i in ix])\n",
    "    x, y = x.to(device), y.to(device)\n",
    "    return x,y\n",
    "x,y = get_batch('train')\n",
    "print('inputs:')\n",
    "print(x.shape)\n",
    "print(x)\n",
    "print('targets:')\n",
    "print(y)"
   ]
  },
  {
   "cell_type": "code",
   "execution_count": 7,
   "metadata": {},
   "outputs": [
    {
     "name": "stdout",
     "output_type": "stream",
     "text": [
      " when input is tensor([1]), target is 1\n",
      " when input is tensor([1, 1]), target is 28\n",
      " when input is tensor([ 1,  1, 28]), target is 39\n",
      " when input is tensor([ 1,  1, 28, 39]), target is 42\n",
      " when input is tensor([ 1,  1, 28, 39, 42]), target is 39\n",
      " when input is tensor([ 1,  1, 28, 39, 42, 39]), target is 44\n",
      " when input is tensor([ 1,  1, 28, 39, 42, 39, 44]), target is 32\n",
      " when input is tensor([ 1,  1, 28, 39, 42, 39, 44, 32]), target is 49\n"
     ]
    }
   ],
   "source": [
    "block_size =  8\n",
    "\n",
    "x = train_data[:block_size]\n",
    "y = train_data[1:block_size+1]\n",
    "\n",
    "for t in range(block_size):  #based on the current char predict the next char\n",
    "    context = x[:t+1]\n",
    "    target = y[t]\n",
    "    print(f\" when input is {context}, target is {target}\")\n",
    "    "
   ]
  },
  {
   "cell_type": "code",
   "execution_count": 8,
   "metadata": {},
   "outputs": [
    {
     "name": "stdout",
     "output_type": "stream",
     "text": [
      "1.26.4\n"
     ]
    }
   ],
   "source": [
    "import numpy as np \n",
    "import time \n",
    "print(np.__version__)"
   ]
  },
  {
   "cell_type": "code",
   "execution_count": 9,
   "metadata": {},
   "outputs": [],
   "source": [
    "@torch.no_grad()   # makes sure torch doesnt use any gradient here\n",
    "def estimate_loss():\n",
    "    out={}\n",
    "    model.eval()\n",
    "    for split in ['train', 'val']:\n",
    "        losses = torch.zeros(eval_iters)\n",
    "        for k in range(eval_iters):\n",
    "            X,Y = get_batch(split)\n",
    "            logits, loss = model(X,Y)\n",
    "            losses[k]= loss.item()\n",
    "        out[split] = losses.mean()\n",
    "    model.train()\n",
    "    return out"
   ]
  },
  {
   "cell_type": "code",
   "execution_count": 10,
   "metadata": {},
   "outputs": [
    {
     "name": "stdout",
     "output_type": "stream",
     "text": [
      "\n",
      "WPph!(]BPiil\n",
      "*fM;QIku tdF'UN5dLvGjTWM6[ET7pgs!?5&;'SfMMo8H8ujK&N5EYaunxF3lB !UPp2rq*92UN57kVd;V(7\n",
      "?d8tR.1ti[em6d']'?ElVOy]IMwIrRV.ztwuMEUP ]g!2hQ-'U:)l14aRdtAN.dTLU;zdSdBw-7:y4]s'w-8seESd,dJxbKw91di1&dFC(B:1&C9'JRsg0Tcy9GY.WG;'IJJbuONAgT:Fp6LtII:sFp;CgnUp -8Nm;xxI64_2jrNfSWMoQX7]qMnEKR a1I\"\n",
      "fkHi7KXmsNB;qa'ZS(K5YR Pb)EIhlqZGjtH-IkRxWUppuvIJG\n",
      "B5\n",
      "*])KrNF3Y33.BRd&o(y)-6l\"\n",
      "v!4bu.,7g InuehjHz9pjg CcgdFN)lUR_50HvtXQg!4oRlmIZ.A\n",
      "'\n",
      "d'w-3G.bkHUjHN.\"M bo?mhmse0mk\n",
      "YA2!4.:-W(w8KxoRpUH-Nhzrr0i6FIkcmaQuTFnVe'AR\n"
     ]
    }
   ],
   "source": [
    "class BigramLanguageModel(nn.Module):\n",
    "    def __init__(self, vocab_size):\n",
    "        super().__init__()\n",
    "        self.token_embedding_table = nn.Embedding(vocab_size, vocab_size)\n",
    "    def forward(self, index, targets=None):\n",
    "        logits = self.token_embedding_table(index) #logits behaves like probability distribution of what we wanna predict\n",
    "        if targets is None:\n",
    "            loss = None\n",
    "        else:\n",
    "            B, T, C = logits.shape # batch time channel\n",
    "            logits = logits.view(B*T, C)\n",
    "            targets = targets.view(B*T)\n",
    "            loss = F.cross_entropy(logits, targets)\n",
    "        return logits, loss\n",
    "    def generate(self, index, max_new_tokens):\n",
    "        for _ in range(max_new_tokens):\n",
    "            logits, loss = self.forward(index)\n",
    "            #focus only on the last time step\n",
    "            logits = logits[:, -1, :] # becomes B, C\n",
    "            #apply softmax to get probabilities\n",
    "            probs = F.softmax(logits, dim=-1)# B, C\n",
    "            #sample from the distribution\n",
    "            index_next = torch.multinomial(probs, num_samples=1)\n",
    "            index = torch.cat((index, index_next),dim=1) #(B, T+1)\n",
    "            \n",
    "        return index\n",
    "model = BigramLanguageModel(vocab_size)\n",
    "m = model.to(device)\n",
    "\n",
    "context = torch.zeros((1,1), dtype= torch.long, device= device) #torch.long equivalent to int64\n",
    "generated_chars = decode(m.generate(context, max_new_tokens=500)[0].tolist())\n",
    "print(generated_chars)\n",
    "    "
   ]
  },
  {
   "cell_type": "code",
   "execution_count": 14,
   "metadata": {
    "scrolled": true
   },
   "outputs": [
    {
     "name": "stdout",
     "output_type": "stream",
     "text": [
      "step: 0, train-loss: 4.410, val-loss: 4.430\n",
      "step: 250, train-loss: 4.376, val-loss: 4.367\n",
      "step: 500, train-loss: 4.300, val-loss: 4.305\n",
      "step: 750, train-loss: 4.251, val-loss: 4.276\n",
      "Loss shape: torch.Size([]), Loss type: <class 'torch.Tensor'>\n",
      "Loss value: 4.107603073120117\n"
     ]
    }
   ],
   "source": [
    "#create a pytorch optimiser\n",
    "optimizer = torch.optim.AdamW(model.parameters(), lr=learning_rate)\n",
    "\n",
    "for iter in range(max_iter):\n",
    "    if iter % eval_iters == 0:\n",
    "        losses = estimate_loss()\n",
    "        print(f\"step: {iter}, train-loss: {losses['train']:.3f}, val-loss: {losses['val']:.3f}\")\n",
    "    #sample a batch of data\n",
    "    xb, yb = get_batch('train')\n",
    "    #evaluate loss\n",
    "    logits, loss = model.forward(xb, yb)\n",
    "    optimizer.zero_grad(set_to_none=True)\n",
    "    loss.backward()\n",
    "    optimizer.step()\n",
    "print(f\"Loss shape: {loss.shape}, Loss type: {type(loss)}\")\n",
    "print(f\"Loss value: {loss.item()}\")"
   ]
  },
  {
   "cell_type": "code",
   "execution_count": 15,
   "metadata": {},
   "outputs": [
    {
     "name": "stdout",
     "output_type": "stream",
     "text": [
      "\n",
      "7]5Zg?_w-_SdxA&(RRRl[D.\"8(5f;[U*'\n",
      "7.)dUBB'*R6]XZbB!ldsP? 69u?v2!jIEpX63i6C2yK5m,LxOy4mi2k,Zb)6Z-NERdqab\"YU* ]q_FiF0Cs_9yN41nxdv9GHqoRdizUBMLG\n",
      "aI5BKw:y)sRMYw _D2!-N4oXo26l&&QjExOp\n",
      "YA(hADUCs&Q?TdI_P6j1OuWY8yEUez[3!x.,3Ydjq2'gIf5y[6\n",
      "Z&C2J(oQIULLLa-14RzCB4VPp_5-*9V3He\n",
      "TEco2C6ZbysymhEm]2hEdI:oX&Qh2rwCKppw5h7i0LvS2JdF5-HXSr0_k7cUBe0RW4omV!X:3.:\n",
      "aV[noG\n",
      "t_eefaYq;0C9y6]e1Q[Q.X9.H4ETLa0_hbWtli rHZima8\n",
      "Y J_nh1nruls;qop*hIXHT!1bf[1I]HGDOiZZVi6SdYZEPLx'\n",
      "q7 \n",
      "TUHUBEwapFyvwaF5lq)Eccrf1nl\"qp3GD.bE*HRk(yelm4NPig \n"
     ]
    }
   ],
   "source": [
    "context = torch.zeros((1,1), dtype=torch.long, device=device)\n",
    "generated_chars = decode(m.generate(context, max_new_tokens=500)[0].tolist())\n",
    "print(generated_chars)"
   ]
  }
 ],
 "metadata": {
  "kernelspec": {
   "display_name": "cuda-gpt",
   "language": "python",
   "name": "cuda"
  },
  "language_info": {
   "codemirror_mode": {
    "name": "ipython",
    "version": 3
   },
   "file_extension": ".py",
   "mimetype": "text/x-python",
   "name": "python",
   "nbconvert_exporter": "python",
   "pygments_lexer": "ipython3",
   "version": "3.11.7"
  }
 },
 "nbformat": 4,
 "nbformat_minor": 4
}
