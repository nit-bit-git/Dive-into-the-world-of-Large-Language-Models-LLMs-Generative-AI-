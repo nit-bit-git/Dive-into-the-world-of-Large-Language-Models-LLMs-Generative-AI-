{
 "cells": [
  {
   "cell_type": "code",
   "execution_count": 1,
   "id": "03ff6932-237e-4dfd-beb7-6a1ef9ef9155",
   "metadata": {},
   "outputs": [
    {
     "name": "stdout",
     "output_type": "stream",
     "text": [
      "Requirement already satisfied: Pillow in c:\\users\\nitis\\desktop\\llm\\cuda\\lib\\site-packages (10.4.0)\n",
      "Collecting svgwrite\n",
      "  Downloading svgwrite-1.4.3-py3-none-any.whl.metadata (8.8 kB)\n",
      "Requirement already satisfied: numpy in c:\\users\\nitis\\desktop\\llm\\cuda\\lib\\site-packages (1.26.4)\n",
      "Downloading svgwrite-1.4.3-py3-none-any.whl (67 kB)\n",
      "   ---------------------------------------- 0.0/67.1 kB ? eta -:--:--\n",
      "   ------------------------ --------------- 41.0/67.1 kB 991.0 kB/s eta 0:00:01\n",
      "   ------------------------ --------------- 41.0/67.1 kB 991.0 kB/s eta 0:00:01\n",
      "   ---------------------------------------- 67.1/67.1 kB 521.9 kB/s eta 0:00:00\n",
      "Installing collected packages: svgwrite\n",
      "Successfully installed svgwrite-1.4.3\n"
     ]
    }
   ],
   "source": [
    "!pip install Pillow svgwrite numpy\n"
   ]
  },
  {
   "cell_type": "code",
   "execution_count": 8,
   "id": "5a0ca598-8cbc-4b97-9355-0bf300e403b1",
   "metadata": {},
   "outputs": [],
   "source": [
    "from PIL import Image\n",
    "import svgwrite\n",
    "import numpy as np\n",
    "\n",
    "def image_to_dot_svg(input_image_path, output_svg_path, dot_spacing=10, max_dot_size=5):\n",
    "    # Open and convert the image to grayscale\n",
    "    img = Image.open(input_image_path).convert('L')\n",
    "    width, height = img.size\n",
    "\n",
    "    # Create an SVG drawing\n",
    "    dwg = svgwrite.Drawing(output_svg_path, size=(f\"{width*10}px\", f\"{height*10}px\"))\n",
    "    dwg.add(dwg.rect(insert=(0, 0), size=('100%', '100%'), fill='black'))\n",
    "\n",
    "    # Create a grid of points\n",
    "    x_points = np.arange(0, width, dot_spacing)\n",
    "    y_points = np.arange(0, height, dot_spacing)\n",
    "\n",
    "    # Sample the image and create dots\n",
    "    for x in x_points:\n",
    "        for y in y_points:\n",
    "            # Get the pixel value (0-255)\n",
    "            pixel_value = img.getpixel((int(x), int(y)))\n",
    "            \n",
    "            # Calculate dot size (inverse of pixel value)\n",
    "            dot_size = max_dot_size * (255 - pixel_value) / 255\n",
    "\n",
    "            if dot_size > 0:\n",
    "                # Ensure x and y are not zero and within the image bounds\n",
    "                cx = max(0.1, min(float(x), float(width) - 0.1))\n",
    "                cy = max(0.1, min(float(y), float(height) - 0.1))\n",
    "                dwg.add(dwg.circle(center=(cx, cy), r=max(0.1, dot_size/2), fill='blue'))\n",
    "\n",
    "    # Save the SVG file\n",
    "    dwg.save()\n",
    "\n",
    "# Usage\n",
    "input_image_path = 'img.jpg'\n",
    "output_svg_path = 'output_image.svg'\n",
    "image_to_dot_svg(input_image_path, output_svg_path, dot_spacing=5, max_dot_size=4)"
   ]
  },
  {
   "cell_type": "code",
   "execution_count": null,
   "id": "c709e7cc-c942-4dfc-9366-61235babd210",
   "metadata": {},
   "outputs": [],
   "source": []
  }
 ],
 "metadata": {
  "kernelspec": {
   "display_name": "cuda-gpt",
   "language": "python",
   "name": "cuda"
  },
  "language_info": {
   "codemirror_mode": {
    "name": "ipython",
    "version": 3
   },
   "file_extension": ".py",
   "mimetype": "text/x-python",
   "name": "python",
   "nbconvert_exporter": "python",
   "pygments_lexer": "ipython3",
   "version": "3.11.7"
  }
 },
 "nbformat": 4,
 "nbformat_minor": 5
}
